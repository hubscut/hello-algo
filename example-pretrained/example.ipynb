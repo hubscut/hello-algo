{
  "cells": [
    {
      "cell_type": "markdown",
      "id": "5e361100",
      "metadata": {
        "id": "5e361100"
      },
      "source": [
        "# Example: Inferring causal structure using a pretrained AVICI model"
      ]
    },
    {
      "cell_type": "markdown",
      "id": "eb6b52aa",
      "metadata": {
        "id": "eb6b52aa"
      },
      "source": [
        "Amortized variational inference for causal discovery (AVICI) allows inferring causal structure from data based on a **simulator** of the domain of interest.\n",
        "By training a neural network to infer structure from the simulated data, it can acquire realistic inductive biases from prior knowledge that is hard to cast as score functions or conditional independence tests.\n",
        "\n",
        "\n",
        "In this example, we **download a pretrained model checkpoint and perform predictions** for a simulated dataset. Inferring causal structure with a pretrained AVICI model takes only a few seconds since it amounts to one forward pass through the neural network."
      ]
    },
    {
      "cell_type": "markdown",
      "id": "de3d0dfc",
      "metadata": {
        "id": "de3d0dfc"
      },
      "source": [
        "Setup for Google Colab (Skip this if running locally).\n"
      ]
    },
    {
      "cell_type": "code",
      "execution_count": 7,
      "id": "633bc20e",
      "metadata": {
        "id": "633bc20e"
      },
      "outputs": [],
      "source": [
        "%pip install --quiet avici"
      ]
    },
    {
      "cell_type": "markdown",
      "id": "ioyAI598FK0T",
      "metadata": {
        "id": "ioyAI598FK0T"
      },
      "source": [
        "**Simulate some data:**\n",
        "\n",
        "The function `simulate_data` accepts the following most important arguments:\n",
        "- **d** (int) -- number of variables in the system\n",
        "- **n** (int) -- number of observational data points to be sampled\n",
        "- **n_interv** (int) -- number of interventional data points to be sampled\n",
        "- **domain** (str) -- specifier of domain to be simulated.\n",
        "  Current options: `lin-gauss`, `lin-gauss-heterosked`, `lin-laplace-cauchy`, `rff-gauss`, `rff-gauss-heterosked`, `rff-laplace-cauchy`, `gene-ecoli` (see `avici.config.examples`)\n",
        "\n",
        "The function returns a 3-tuple of\n",
        "- **g** -- adjacency matrix of shape `[d, d]` of causal graph\n",
        "- **x** -- data matrix of shape `[n + n_interv, d]` containing `n + n_interv` observations of the `d` variables\n",
        "- **interv** -- binary matrix of shape `[n + n_interv, d]` encoding which nodes were intervened upon (`None` if `n_interv=0`)"
      ]
    },
    {
      "cell_type": "code",
      "execution_count": 3,
      "id": "e5e8370c",
      "metadata": {
        "id": "e5e8370c",
        "scrolled": true,
        "colab": {
          "base_uri": "https://localhost:8080/"
        },
        "outputId": "501a69e8-2c9d-43da-e088-5ad56a2b5265"
      },
      "outputs": [
        {
          "output_type": "stream",
          "name": "stdout",
          "text": [
            "Using default cache_path: `/content/cache`\n"
          ]
        }
      ],
      "source": [
        "import numpy as np\n",
        "import pandas as pd\n",
        "import avici\n",
        "import networkx as nx\n",
        "import matplotlib.pyplot as plt\n",
        "import seaborn as sns\n",
        "\n",
        "# 设置块大小\n",
        "chunksize = 1000\n",
        "\n",
        "# 加载预训练模型\n",
        "model = avici.load_pretrained(download=\"scm-v0\")\n",
        "\n",
        "# 初始化因果结构概率矩阵\n",
        "g_probs = []\n",
        "\n",
        "# 分块读取和处理数据\n",
        "for chunk in pd.read_csv('trip_test.csv', chunksize=chunksize):\n",
        "    x = chunk.to_numpy()\n",
        "    g_prob = model(x=x)\n",
        "    g_probs.append(g_prob)\n",
        "\n",
        "\n",
        "# 合并所有块的结果\n",
        "g_prob = np.mean(g_probs, axis=0)\n",
        "\n",
        "# 获取列名\n",
        "columns = pd.read_csv('trip_test.csv', nrows=0).columns\n",
        "\n",
        "# 将概率矩阵转换为有向图\n",
        "threshold = 0.5\n",
        "g = nx.DiGraph()\n",
        "g.add_nodes_from(columns)\n",
        "for i in range(len(columns)):\n",
        "    for j in range(len(columns)):\n",
        "        if g_prob[i, j] > threshold:\n",
        "            g.add_edge(columns[i], columns[j])\n",
        "\n"
      ]
    },
    {
      "cell_type": "code",
      "source": [
        "import matplotlib.pyplot as plt\n",
        "import seaborn as sns\n",
        "# 输出预测的因果结构\n",
        "print(\"Predicted Causal Structure:\")\n",
        "for edge in g.edges():\n",
        "    print(f\"{edge[0]} -> {edge[1]}\")\n",
        "\n",
        "# 可视化因果结构热力图\n",
        "plt.figure(figsize=(12, 10))\n",
        "sns.heatmap(g_prob, fmt=\".2f\", cmap=\"YlGnBu\", xticklabels=columns, yticklabels=columns)\n",
        "plt.title(\"Causal Structure Heatmap\")\n",
        "plt.show()"
      ],
      "metadata": {
        "colab": {
          "base_uri": "https://localhost:8080/",
          "height": 228
        },
        "id": "aQgmaC7BQ1nw",
        "outputId": "0f3458e5-c0d4-41d3-d601-0ac9f100e406"
      },
      "id": "aQgmaC7BQ1nw",
      "execution_count": 1,
      "outputs": [
        {
          "output_type": "stream",
          "name": "stdout",
          "text": [
            "Predicted Causal Structure:\n"
          ]
        },
        {
          "output_type": "error",
          "ename": "NameError",
          "evalue": "name 'g' is not defined",
          "traceback": [
            "\u001b[0;31m---------------------------------------------------------------------------\u001b[0m",
            "\u001b[0;31mNameError\u001b[0m                                 Traceback (most recent call last)",
            "\u001b[0;32m<ipython-input-1-d72afd9b694f>\u001b[0m in \u001b[0;36m<cell line: 5>\u001b[0;34m()\u001b[0m\n\u001b[1;32m      3\u001b[0m \u001b[0;31m# 输出预测的因果结构\u001b[0m\u001b[0;34m\u001b[0m\u001b[0;34m\u001b[0m\u001b[0m\n\u001b[1;32m      4\u001b[0m \u001b[0mprint\u001b[0m\u001b[0;34m(\u001b[0m\u001b[0;34m\"Predicted Causal Structure:\"\u001b[0m\u001b[0;34m)\u001b[0m\u001b[0;34m\u001b[0m\u001b[0;34m\u001b[0m\u001b[0m\n\u001b[0;32m----> 5\u001b[0;31m \u001b[0;32mfor\u001b[0m \u001b[0medge\u001b[0m \u001b[0;32min\u001b[0m \u001b[0mg\u001b[0m\u001b[0;34m.\u001b[0m\u001b[0medges\u001b[0m\u001b[0;34m(\u001b[0m\u001b[0;34m)\u001b[0m\u001b[0;34m:\u001b[0m\u001b[0;34m\u001b[0m\u001b[0;34m\u001b[0m\u001b[0m\n\u001b[0m\u001b[1;32m      6\u001b[0m     \u001b[0mprint\u001b[0m\u001b[0;34m(\u001b[0m\u001b[0;34mf\"{edge[0]} -> {edge[1]}\"\u001b[0m\u001b[0;34m)\u001b[0m\u001b[0;34m\u001b[0m\u001b[0;34m\u001b[0m\u001b[0m\n\u001b[1;32m      7\u001b[0m \u001b[0;34m\u001b[0m\u001b[0m\n",
            "\u001b[0;31mNameError\u001b[0m: name 'g' is not defined"
          ]
        }
      ]
    },
    {
      "cell_type": "markdown",
      "id": "TcS0FHyqFUuq",
      "metadata": {
        "id": "TcS0FHyqFUuq"
      },
      "source": [
        "**Download and initialize a pretrained model:**\n",
        "\n",
        "We currently provide the following models checkpoints,\n",
        "which can be specified by the `download` argument:\n",
        "\n",
        "- `scm-v0` (**default**): linear and nonlinear SCM data, broad graph and noise distributions\n",
        "- `neurips-linear`: SCM data with linear causal mechanisms\n",
        "- `neurips-rff`: SCM data with nonlinear causal mechanisms drawn\n",
        "from GPs with squared-exponential kernel\n",
        "(defined via random Fourier features)\n",
        "- `neurips-grn`: Synthetic scRNA-seq gene expression data using the SERGIO\n",
        "[simulator](https://github.com/PayamDiba/SERGIO) by\n",
        "[Dibaeinia and Sinha, (2020)](https://www.cell.com/cell-systems/pdf/S2405-4712(20)30287-8.pdf)\n"
      ]
    },
    {
      "cell_type": "markdown",
      "id": "6DGpSt1AFlk4",
      "metadata": {
        "id": "6DGpSt1AFlk4"
      },
      "source": [
        "**Predict the causal structure:**\n",
        "\n",
        "Calling `model` as obtained from `avici.load_pretrained` predicts the `[d, d]` matrix of probabilities for each possible edge in the causal graph and accepts the following arguments:\n",
        "\n",
        "- **x** (ndarray) -- real-valued data matrix of shape `[n, d]`\n",
        "- **interv** (ndarray, optional) --  binary matrix of the same shape as **x** with **interv[i,j] = 1** iff node **j** was intervened upon in observation **i**. (Default is `None`)\n",
        "- **return_probs** (bool, optional) -- whether to return probability estimates for each edge. `False` simply clips the predictions to 0 and 1 using a decision threshold of 0.5. (Default is `True` as the computational cost is the same.)\n"
      ]
    },
    {
      "cell_type": "code",
      "execution_count": 15,
      "id": "bf6bdf4f",
      "metadata": {
        "id": "bf6bdf4f",
        "colab": {
          "base_uri": "https://localhost:8080/",
          "height": 621
        },
        "outputId": "8ad824fd-169c-47cb-93f3-771796ff62de"
      },
      "outputs": [
        {
          "output_type": "display_data",
          "data": {
            "text/plain": [
              "<Figure size 1190.59x595.294 with 2 Axes>"
            ],
            "image/png": "[encoded data removed]"
          },
          "metadata": {}
        }
      ],
      "source": [
        "from avici.metrics import shd, classification_metrics, threshold_metrics\n",
        "\n",
        "# visualize predictions and compute metrics\n",
        "avici.visualize(g_prob,true=g_prob,size=0.75)\n"
      ]
    },
    {
      "cell_type": "code",
      "execution_count": null,
      "id": "4baceaf1",
      "metadata": {
        "id": "4baceaf1"
      },
      "outputs": [],
      "source": []
    }
  ],
  "metadata": {
    "colab": {
      "provenance": []
    },
    "kernelspec": {
      "display_name": "Python 3 (ipykernel)",
      "language": "python",
      "name": "python3"
    },
    "language_info": {
      "codemirror_mode": {
        "name": "ipython",
        "version": 3
      },
      "file_extension": ".py",
      "mimetype": "text/x-python",
      "name": "python",
      "nbconvert_exporter": "python",
      "pygments_lexer": "ipython3",
      "version": "3.10.6"
    }
  },
  "nbformat": 4,
  "nbformat_minor": 5
}